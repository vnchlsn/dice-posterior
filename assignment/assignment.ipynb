{
 "cells": [
  {
   "cell_type": "markdown",
   "metadata": {},
   "source": [
    "This is a follow-up to the assignment dice_sample, which should be completed\n",
    "first.  \n",
    "\n",
    "The setup is the same: There is a bag containing two types of dice with\n",
    "different probabilities of rolling each number. Someone selects a die from the\n",
    "bag at random, rolls it a fixed number of times, reports the outcomes, returns\n",
    "it to the bag, and repeats the process. "
   ]
  },
  {
   "cell_type": "markdown",
   "metadata": {},
   "source": [
    "# Programming Exercise: Object oriented dice sample\n",
    "The first part of this assignment is focused on making sure everyone understand \n",
    "basic object oriented concepts. The starter code contains a class definition\n",
    "which defines a class Die. Instances of this simple class store the probability\n",
    "of rolling each face of the die, which you can get with accessor function \n",
    "`face_probs`. It also allows you to access the number of faces on the die with\n",
    "`num_faces` and to roll the die a fixed number of times with the method `roll`. \n",
    "For example:"
   ]
  },
  {
   "cell_type": "code",
   "execution_count": null,
   "metadata": {},
   "outputs": [
    {
     "name": "stdout",
     "output_type": "stream",
     "text": [
      "Number of faces: 2\n",
      "Face probabilities [0.3, 0.7]\n",
      "Faces on five rolls [1 1 1 1 0]\n"
     ]
    }
   ],
   "source": [
    "from assignment import Die\n",
    "import numpy as np\n",
    "from assignment import oo_generate_sample, Die\n",
    "a_die = Die([0.3, 0.7]) # A two-sided die (coin)\n",
    "print(\"Number of faces:\", a_die.num_faces)\n",
    "print(\"Face probabilities\", a_die.face_probs)\n",
    "print(\"Faces on five rolls\", (a_die.roll(5)))"
   ]
  },
  {
   "cell_type": "markdown",
   "metadata": {},
   "source": [
    "The assignment also contains a mostly complete, object-oriented implementation\n",
    "of `generate_sample` called `oo_generate_sample`. Your job is to add the final few lines of code to actually return the sample. Note that it should return a numpy nd.array.\n",
    "you can coerce lists, tuples, and other iterables to that type using the function\n",
    "`np.array`.\n",
    "\n",
    "This part of the assignment is not worth very many points, but it is important to\n",
    "get you used to object oriented code. In the next lab, we will be providing a full\n",
    "implementation of the classes <Die> and <BagOfDice>. To provide all the standard\n",
    "functionality for this type of object takes a lot of lines of code. You will not\n",
    "have to implement these types but you will have to use them."
   ]
  },
  {
   "cell_type": "markdown",
   "metadata": {},
   "source": [
    "# Programming Exercise: Posterior Probabilities\n",
    "\n",
    " This is the main part of the assignment. \n",
    "\n",
    "Here, you will write code that calculates the posterior probability of each die\n",
    "type for each draw, given the number of times each face showed up in the rolls\n",
    "for that draw, the prior probabilities of the two die types and the probability\n",
    "distribution on faces given the die type.\n",
    "\n",
    "Before starting to code, sit down with a pen and paper and write the formula\n",
    "for the posterior probability of each die type as a function of its prior\n",
    "probability, the probability distribution on faces for each die type, and the\n",
    "faces actually observed when a die of that type is rolled. Recall that there\n",
    "are only two possible die types so the posteriors of these two types must sum\n",
    "to one. To get the posteriors, you will use Bayes rule. This will give you\n",
    "something of the form  \n",
    "\n",
    "$$\n",
    "\\frac{x}{x + y}\n",
    "$$ "
   ]
  },
  {
   "cell_type": "markdown",
   "metadata": {},
   "source": [
    "## input and output\n",
    "\n",
    "The function definition starts\n",
    "\n",
    "```python\n",
    "def dice_posterior(sample_draw: List[int], \n",
    "                   die_type_counts: Tuple[int],\n",
    "                   dice: Tuple[Die]) -> float:\n",
    "```\n",
    "\n",
    "\n",
    "`sample_draw` is a list of the number of times each face has shown up\n",
    "during the rolls of a die drawn from the bag. Face are numbered starting at 0, so \n",
    "`[5, 3, 5, 7]` that would mean 5 zeros, 3 ones, 5 twos, and 7 threes. The length \n",
    "of `sample_draw` must equal to length of the `face_probs` in the die object that\n",
    "is also passed in. Your code should be general enough to handle any positive \n",
    "length. \n",
    "\n",
    "`die_type_counts` is a tuple indicating how many copies of each die type are in\n",
    "the bag. For this assignment we are assuming two die types, so it should have\n",
    "length 2. Note that it is a tuple, as in `(2, 3)`, not a list, as in `[2, 3]`\n",
    "\n",
    "For example:"
   ]
  },
  {
   "cell_type": "code",
   "execution_count": 2,
   "metadata": {},
   "outputs": [
    {
     "data": {
      "text/plain": [
       "0.5"
      ]
     },
     "execution_count": 2,
     "metadata": {},
     "output_type": "execute_result"
    }
   ],
   "source": [
    "from assignment import Die, dice_posterior\n",
    "sample_draw = [1, 1, 1, 1]\n",
    "dice_posterior(sample_draw, [1, 1], [Die([1/4]*4), Die([1/4]*4)])"
   ]
  },
  {
   "cell_type": "markdown",
   "metadata": {},
   "source": [
    "## Important tip\n",
    "\n",
    "Once you've figured out the formula, writing this code is pretty trivial,\n",
    "except for one thing! You must consider the cases where the prior probability of\n",
    "a face is zero and the observed count of that face is zero. It's easy to \n",
    "figure out what makes sense for this case. Your code should always return the \n",
    "correct posterior for any prior probabilities and observed counts, as long as \n",
    "the prior probability distributions sums to one. \n",
    "\n",
    "The function `safe_exponeniate`, which you will complete, handles the case of a zero\n",
    "probability face with zero counts in the appropriate way for calculating the\n",
    "likelihods of face counts. Once you've completed it, you can call it instead of\n",
    "the built in exponentiation function."
   ]
  },
  {
   "cell_type": "markdown",
   "metadata": {},
   "source": []
  }
 ],
 "metadata": {
  "kernelspec": {
   "display_name": "non-package-mode-py3.10 (3.10.12)",
   "language": "python",
   "name": "python3"
  },
  "language_info": {
   "codemirror_mode": {
    "name": "ipython",
    "version": 3
   },
   "file_extension": ".py",
   "mimetype": "text/x-python",
   "name": "python",
   "nbconvert_exporter": "python",
   "pygments_lexer": "ipython3",
   "version": "3.10.12"
  },
  "orig_nbformat": 4
 },
 "nbformat": 4,
 "nbformat_minor": 2
}
